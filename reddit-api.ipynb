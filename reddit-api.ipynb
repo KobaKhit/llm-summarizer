{
 "cells": [
  {
   "cell_type": "markdown",
   "id": "4591764f-d488-4fd6-9593-f84a701d8e9d",
   "metadata": {},
   "source": [
    "# Reddit API"
   ]
  },
  {
   "cell_type": "code",
   "execution_count": 5,
   "id": "9cd6a3fc-65f3-4518-a79c-d1c6d4a75f3d",
   "metadata": {
    "tags": []
   },
   "outputs": [],
   "source": [
    "from soc_api import Reddit\n",
    "import pandas as pd\n",
    "import json\n",
    "\n",
    "pd.set_option('display.max_columns', None)\n",
    "\n",
    "with open('secrets.json') as user_file:\n",
    "  secrets = json.loads(user_file.read())"
   ]
  },
  {
   "cell_type": "code",
   "execution_count": 9,
   "id": "b8bb5adb-dd76-4c89-92d0-3d0531338198",
   "metadata": {},
   "outputs": [],
   "source": [
    "client_id = secrets['reddit']['key']\n",
    "client_secret = secrets['reddit']['secret']\n",
    "\n",
    "red = Reddit(client_id,client_secret)"
   ]
  },
  {
   "cell_type": "code",
   "execution_count": 10,
   "id": "f93d465e-d22a-4079-92bd-6faf06c7f70f",
   "metadata": {},
   "outputs": [
    {
     "name": "stdout",
     "output_type": "stream",
     "text": [
      "194\n"
     ]
    },
    {
     "data": {
      "text/plain": [
       "['13c6tg3', '13bncl8', '13b5r7a']"
      ]
     },
     "execution_count": 10,
     "metadata": {},
     "output_type": "execute_result"
    }
   ],
   "source": [
    "subreddit = 'MLS'\n",
    "post_ids = [p for p in red.get_submissions(subreddit, time_filter='week', limit=1000)]\n",
    "print(len(post_ids))\n",
    "post_ids[0:3]"
   ]
  },
  {
   "cell_type": "code",
   "execution_count": 11,
   "id": "83ce5301-8d8d-4f6c-bc0f-ea37331e88cf",
   "metadata": {},
   "outputs": [
    {
     "name": "stderr",
     "output_type": "stream",
     "text": [
      "100%|██████████| 3/3 [00:01<00:00,  2.61it/s]\n"
     ]
    }
   ],
   "source": [
    "thread_urls = ['https://www.reddit.com/r/MLS/comments/138w5p7/lizzy_becherano_exclusive_sources_confirm_a_new/',\n",
    "              'https://www.reddit.com/r/MLS/comments/138ts1p/tannenwald_the_full_transcript_of_the_exchange/']\n",
    "\n",
    "coms = red.process_submissions(post_ids[:3])"
   ]
  },
  {
   "cell_type": "code",
   "execution_count": 15,
   "id": "573820dd-66fc-4bcc-a0e5-e403e75d98ab",
   "metadata": {},
   "outputs": [
    {
     "data": {
      "text/plain": [
       "(datetime.datetime(2023, 5, 7, 22, 53, 1),\n",
       " datetime.datetime(2023, 5, 9, 23, 14, 51))"
      ]
     },
     "execution_count": 15,
     "metadata": {},
     "output_type": "execute_result"
    }
   ],
   "source": [
    "dates = [c['created_date'] for c in coms]\n",
    "\n",
    "min(dates), max(dates)"
   ]
  },
  {
   "cell_type": "code",
   "execution_count": 2,
   "id": "09314513-5797-48ef-84f1-45f0ba973b7c",
   "metadata": {
    "tags": []
   },
   "outputs": [],
   "source": [
    "# filename = '{}_{}_{}.csv'.format(subreddit,min(dates).strftime('%Y-%m-%d'), max(dates).strftime('%Y-%m-%d'))\n",
    "# red.write_csv(coms,filename)\n",
    "coms_df = pd.read_csv('MLS_2023-04-30_2023-05-07.csv')"
   ]
  },
  {
   "cell_type": "code",
   "execution_count": 18,
   "id": "839e8d6d-61d3-4deb-823d-60f6df9e655d",
   "metadata": {},
   "outputs": [
    {
     "name": "stdout",
     "output_type": "stream",
     "text": [
      "(9715, 25)\n"
     ]
    },
    {
     "data": {
      "text/html": [
       "<div>\n",
       "<style scoped>\n",
       "    .dataframe tbody tr th:only-of-type {\n",
       "        vertical-align: middle;\n",
       "    }\n",
       "\n",
       "    .dataframe tbody tr th {\n",
       "        vertical-align: top;\n",
       "    }\n",
       "\n",
       "    .dataframe thead th {\n",
       "        text-align: right;\n",
       "    }\n",
       "</style>\n",
       "<table border=\"1\" class=\"dataframe\">\n",
       "  <thead>\n",
       "    <tr style=\"text-align: right;\">\n",
       "      <th></th>\n",
       "      <th>subreddit</th>\n",
       "      <th>submission_text</th>\n",
       "      <th>created_utc</th>\n",
       "      <th>controversiality</th>\n",
       "      <th>submission_id</th>\n",
       "      <th>score</th>\n",
       "      <th>likes</th>\n",
       "      <th>distinguished</th>\n",
       "      <th>downs</th>\n",
       "      <th>title</th>\n",
       "      <th>author</th>\n",
       "      <th>upvote_ratio</th>\n",
       "      <th>url_domain</th>\n",
       "      <th>permalink</th>\n",
       "      <th>retrieve_time</th>\n",
       "      <th>created_date</th>\n",
       "      <th>parent_id</th>\n",
       "      <th>type</th>\n",
       "      <th>gilded</th>\n",
       "      <th>url</th>\n",
       "      <th>body</th>\n",
       "      <th>num_reports</th>\n",
       "      <th>total_awards_received</th>\n",
       "      <th>id</th>\n",
       "      <th>score_percent</th>\n",
       "    </tr>\n",
       "  </thead>\n",
       "  <tbody>\n",
       "    <tr>\n",
       "      <th>0</th>\n",
       "      <td>MLS</td>\n",
       "      <td>NaN</td>\n",
       "      <td>1.682946e+09</td>\n",
       "      <td>NaN</td>\n",
       "      <td>134ls7m</td>\n",
       "      <td>1109</td>\n",
       "      <td>NaN</td>\n",
       "      <td>NaN</td>\n",
       "      <td>NaN</td>\n",
       "      <td>[meme] It would end the pain</td>\n",
       "      <td>Fraganade</td>\n",
       "      <td>0.98</td>\n",
       "      <td>i.imgur.com</td>\n",
       "      <td>/r/MLS/comments/134ls7m/meme_it_would_end_the_...</td>\n",
       "      <td>2023-05-06 23:17:30</td>\n",
       "      <td>2023-05-01 12:57:25</td>\n",
       "      <td>NaN</td>\n",
       "      <td>submission</td>\n",
       "      <td>NaN</td>\n",
       "      <td>https://i.imgur.com/duojFS6.jpg</td>\n",
       "      <td>NaN</td>\n",
       "      <td>NaN</td>\n",
       "      <td>NaN</td>\n",
       "      <td>134ls7m</td>\n",
       "      <td>0.010596</td>\n",
       "    </tr>\n",
       "    <tr>\n",
       "      <th>1</th>\n",
       "      <td>MLS</td>\n",
       "      <td>NaN</td>\n",
       "      <td>1.682949e+09</td>\n",
       "      <td>0.0</td>\n",
       "      <td>134ls7m</td>\n",
       "      <td>111</td>\n",
       "      <td>NaN</td>\n",
       "      <td>NaN</td>\n",
       "      <td>0.0</td>\n",
       "      <td>NaN</td>\n",
       "      <td>formerly_LTRLLTRL</td>\n",
       "      <td>NaN</td>\n",
       "      <td>NaN</td>\n",
       "      <td>/r/MLS/comments/134ls7m/meme_it_would_end_the_...</td>\n",
       "      <td>2023-05-06 23:17:30</td>\n",
       "      <td>2023-05-01 13:53:30</td>\n",
       "      <td>t3_134ls7m</td>\n",
       "      <td>comment</td>\n",
       "      <td>0.0</td>\n",
       "      <td>NaN</td>\n",
       "      <td>The fact that this is currently the highest ra...</td>\n",
       "      <td>NaN</td>\n",
       "      <td>0.0</td>\n",
       "      <td>jifj98o</td>\n",
       "      <td>0.001061</td>\n",
       "    </tr>\n",
       "    <tr>\n",
       "      <th>2</th>\n",
       "      <td>MLS</td>\n",
       "      <td>NaN</td>\n",
       "      <td>1.682949e+09</td>\n",
       "      <td>0.0</td>\n",
       "      <td>134ls7m</td>\n",
       "      <td>62</td>\n",
       "      <td>NaN</td>\n",
       "      <td>NaN</td>\n",
       "      <td>0.0</td>\n",
       "      <td>NaN</td>\n",
       "      <td>Cad_Monkey_Mafia</td>\n",
       "      <td>NaN</td>\n",
       "      <td>NaN</td>\n",
       "      <td>/r/MLS/comments/134ls7m/meme_it_would_end_the_...</td>\n",
       "      <td>2023-05-06 23:17:30</td>\n",
       "      <td>2023-05-01 13:57:14</td>\n",
       "      <td>t3_134ls7m</td>\n",
       "      <td>comment</td>\n",
       "      <td>0.0</td>\n",
       "      <td>NaN</td>\n",
       "      <td>In search of a vehicle to run you over and end...</td>\n",
       "      <td>NaN</td>\n",
       "      <td>0.0</td>\n",
       "      <td>jifjqzq</td>\n",
       "      <td>0.000592</td>\n",
       "    </tr>\n",
       "    <tr>\n",
       "      <th>3</th>\n",
       "      <td>MLS</td>\n",
       "      <td>NaN</td>\n",
       "      <td>1.682950e+09</td>\n",
       "      <td>0.0</td>\n",
       "      <td>134ls7m</td>\n",
       "      <td>23</td>\n",
       "      <td>NaN</td>\n",
       "      <td>NaN</td>\n",
       "      <td>0.0</td>\n",
       "      <td>NaN</td>\n",
       "      <td>lookitskelvin</td>\n",
       "      <td>NaN</td>\n",
       "      <td>NaN</td>\n",
       "      <td>/r/MLS/comments/134ls7m/meme_it_would_end_the_...</td>\n",
       "      <td>2023-05-06 23:17:30</td>\n",
       "      <td>2023-05-01 14:01:56</td>\n",
       "      <td>t3_134ls7m</td>\n",
       "      <td>comment</td>\n",
       "      <td>0.0</td>\n",
       "      <td>NaN</td>\n",
       "      <td>This is going to be a legendary reused meme</td>\n",
       "      <td>NaN</td>\n",
       "      <td>0.0</td>\n",
       "      <td>jifkd79</td>\n",
       "      <td>0.000220</td>\n",
       "    </tr>\n",
       "    <tr>\n",
       "      <th>4</th>\n",
       "      <td>MLS</td>\n",
       "      <td>NaN</td>\n",
       "      <td>1.682950e+09</td>\n",
       "      <td>0.0</td>\n",
       "      <td>134ls7m</td>\n",
       "      <td>30</td>\n",
       "      <td>NaN</td>\n",
       "      <td>NaN</td>\n",
       "      <td>0.0</td>\n",
       "      <td>NaN</td>\n",
       "      <td>Sneaky_Ben</td>\n",
       "      <td>NaN</td>\n",
       "      <td>NaN</td>\n",
       "      <td>/r/MLS/comments/134ls7m/meme_it_would_end_the_...</td>\n",
       "      <td>2023-05-06 23:17:30</td>\n",
       "      <td>2023-05-01 14:07:01</td>\n",
       "      <td>t3_134ls7m</td>\n",
       "      <td>comment</td>\n",
       "      <td>0.0</td>\n",
       "      <td>NaN</td>\n",
       "      <td>Well you certainly picked the right country fo...</td>\n",
       "      <td>NaN</td>\n",
       "      <td>0.0</td>\n",
       "      <td>jifl18k</td>\n",
       "      <td>0.000287</td>\n",
       "    </tr>\n",
       "  </tbody>\n",
       "</table>\n",
       "</div>"
      ],
      "text/plain": [
       "  subreddit submission_text   created_utc  controversiality submission_id   \n",
       "0       MLS             NaN  1.682946e+09               NaN       134ls7m  \\\n",
       "1       MLS             NaN  1.682949e+09               0.0       134ls7m   \n",
       "2       MLS             NaN  1.682949e+09               0.0       134ls7m   \n",
       "3       MLS             NaN  1.682950e+09               0.0       134ls7m   \n",
       "4       MLS             NaN  1.682950e+09               0.0       134ls7m   \n",
       "\n",
       "   score  likes  distinguished  downs                         title   \n",
       "0   1109    NaN            NaN    NaN  [meme] It would end the pain  \\\n",
       "1    111    NaN            NaN    0.0                           NaN   \n",
       "2     62    NaN            NaN    0.0                           NaN   \n",
       "3     23    NaN            NaN    0.0                           NaN   \n",
       "4     30    NaN            NaN    0.0                           NaN   \n",
       "\n",
       "              author  upvote_ratio   url_domain   \n",
       "0          Fraganade          0.98  i.imgur.com  \\\n",
       "1  formerly_LTRLLTRL           NaN          NaN   \n",
       "2   Cad_Monkey_Mafia           NaN          NaN   \n",
       "3      lookitskelvin           NaN          NaN   \n",
       "4         Sneaky_Ben           NaN          NaN   \n",
       "\n",
       "                                           permalink        retrieve_time   \n",
       "0  /r/MLS/comments/134ls7m/meme_it_would_end_the_...  2023-05-06 23:17:30  \\\n",
       "1  /r/MLS/comments/134ls7m/meme_it_would_end_the_...  2023-05-06 23:17:30   \n",
       "2  /r/MLS/comments/134ls7m/meme_it_would_end_the_...  2023-05-06 23:17:30   \n",
       "3  /r/MLS/comments/134ls7m/meme_it_would_end_the_...  2023-05-06 23:17:30   \n",
       "4  /r/MLS/comments/134ls7m/meme_it_would_end_the_...  2023-05-06 23:17:30   \n",
       "\n",
       "          created_date   parent_id        type  gilded   \n",
       "0  2023-05-01 12:57:25         NaN  submission     NaN  \\\n",
       "1  2023-05-01 13:53:30  t3_134ls7m     comment     0.0   \n",
       "2  2023-05-01 13:57:14  t3_134ls7m     comment     0.0   \n",
       "3  2023-05-01 14:01:56  t3_134ls7m     comment     0.0   \n",
       "4  2023-05-01 14:07:01  t3_134ls7m     comment     0.0   \n",
       "\n",
       "                               url   \n",
       "0  https://i.imgur.com/duojFS6.jpg  \\\n",
       "1                              NaN   \n",
       "2                              NaN   \n",
       "3                              NaN   \n",
       "4                              NaN   \n",
       "\n",
       "                                                body  num_reports   \n",
       "0                                                NaN          NaN  \\\n",
       "1  The fact that this is currently the highest ra...          NaN   \n",
       "2  In search of a vehicle to run you over and end...          NaN   \n",
       "3        This is going to be a legendary reused meme          NaN   \n",
       "4  Well you certainly picked the right country fo...          NaN   \n",
       "\n",
       "   total_awards_received       id  score_percent  \n",
       "0                    NaN  134ls7m       0.010596  \n",
       "1                    0.0  jifj98o       0.001061  \n",
       "2                    0.0  jifjqzq       0.000592  \n",
       "3                    0.0  jifkd79       0.000220  \n",
       "4                    0.0  jifl18k       0.000287  "
      ]
     },
     "execution_count": 18,
     "metadata": {},
     "output_type": "execute_result"
    }
   ],
   "source": [
    "print(coms_df.shape)\n",
    "coms_df.head()"
   ]
  },
  {
   "cell_type": "code",
   "execution_count": 20,
   "id": "6c55643d-6760-40f7-9715-0aa65eea2b35",
   "metadata": {},
   "outputs": [
    {
     "data": {
      "text/plain": [
       "type\n",
       "comment_reply    5971\n",
       "comment          3564\n",
       "submission        180\n",
       "Name: count, dtype: int64"
      ]
     },
     "execution_count": 20,
     "metadata": {},
     "output_type": "execute_result"
    }
   ],
   "source": [
    "coms_df.type.value_counts()"
   ]
  },
  {
   "cell_type": "code",
   "execution_count": 21,
   "id": "d6711016-c277-4b30-b975-08f67932b913",
   "metadata": {},
   "outputs": [
    {
     "data": {
      "text/plain": [
       "url_domain\n",
       "i.redd.it                         40\n",
       "twitter.com                       33\n",
       "www.reddit.com                    24\n",
       "www.mlssoccer.com                 14\n",
       "v.redd.it                         10\n",
       "i.imgur.com                        6\n",
       "theathletic.com                    4\n",
       "youtu.be                           4\n",
       "www.inquirer.com                   3\n",
       "www.espn.com                       3\n",
       "www.youtube.com                    2\n",
       "www.goal.com                       2\n",
       "imgur.com                          2\n",
       "www.americansocceranalysis.com     2\n",
       "www.concacaf.com                   2\n",
       "www.newyorkredbulls.com            1\n",
       "itscalledsoccer.substack.com       1\n",
       "www.sandiegouniontribune.com       1\n",
       "streamin.one                       1\n",
       "www.fcdallas.com                   1\n",
       "www.backheeled.com                 1\n",
       "www.burnleyfootballclub.com        1\n",
       "www.intermiamicf.com               1\n",
       "austin.towers.net                  1\n",
       "www.espnfc.com                     1\n",
       "www.protagonistsoccer.com          1\n",
       "www.theblazingmusket.com           1\n",
       "fox5sandiego.com                   1\n",
       "ussoccerplayers.com                1\n",
       "prideraiser.org                    1\n",
       "www.uslchampionship.com            1\n",
       "www.scoresecondary.com             1\n",
       "www.ussoccer.com                   1\n",
       "www.lagalaxy.com                   1\n",
       "www.revolutionsoccer.net           1\n",
       "www.oregonlive.com                 1\n",
       "i.imgflip.com                      1\n",
       "www.washingtonpost.com             1\n",
       "www.nashvillesc.com                1\n",
       "www.thegazette.com                 1\n",
       "www.paramountpressexpress.com      1\n",
       "www.thestar.com                    1\n",
       "Name: count, dtype: int64"
      ]
     },
     "execution_count": 21,
     "metadata": {},
     "output_type": "execute_result"
    }
   ],
   "source": [
    "coms_df.url_domain.value_counts()"
   ]
  },
  {
   "cell_type": "code",
   "execution_count": 23,
   "id": "e981d10a-9776-40aa-8563-1f8959673089",
   "metadata": {},
   "outputs": [
    {
     "data": {
      "text/plain": [
       "<Axes: >"
      ]
     },
     "execution_count": 23,
     "metadata": {},
     "output_type": "execute_result"
    },
    {
     "data": {
      "image/png": "[encoded data removed]",
      "text/plain": [
       "<Figure size 640x480 with 1 Axes>"
      ]
     },
     "metadata": {},
     "output_type": "display_data"
    }
   ],
   "source": [
    "coms_df[coms_df.score>2].score.hist()"
   ]
  },
  {
   "cell_type": "code",
   "execution_count": 24,
   "id": "90375366-9457-4333-a47f-ed7631149e33",
   "metadata": {},
   "outputs": [
    {
     "data": {
      "text/plain": [
       "array([[<Axes: title={'center': 'comment'}>,\n",
       "        <Axes: title={'center': 'comment_reply'}>],\n",
       "       [<Axes: title={'center': 'submission'}>, <Axes: >]], dtype=object)"
      ]
     },
     "execution_count": 24,
     "metadata": {},
     "output_type": "execute_result"
    },
    {
     "data": {
      "image/png": "[encoded data removed]",
      "text/plain": [
       "<Figure size 640x480 with 4 Axes>"
      ]
     },
     "metadata": {},
     "output_type": "display_data"
    }
   ],
   "source": [
    "coms_df[coms_df.score>2].score.hist(by=coms_df['type'])"
   ]
  },
  {
   "cell_type": "code",
   "execution_count": 25,
   "id": "b7cfe3fa-2fa0-4f63-a075-859c65b95ae8",
   "metadata": {},
   "outputs": [
    {
     "data": {
      "text/plain": [
       "array([<Axes: title={'center': 'comment'}, xlabel='created_date'>,\n",
       "       <Axes: title={'center': 'comment_reply'}, xlabel='created_date'>,\n",
       "       <Axes: title={'center': 'submission'}, xlabel='created_date'>],\n",
       "      dtype=object)"
      ]
     },
     "execution_count": 25,
     "metadata": {},
     "output_type": "execute_result"
    },
    {
     "data": {
      "image/png": "[encoded data removed]",
      "text/plain": [
       "<Figure size 640x480 with 3 Axes>"
      ]
     },
     "metadata": {},
     "output_type": "display_data"
    }
   ],
   "source": [
    "coms_df \\\n",
    "    .groupby([pd.to_datetime(coms_df.created_date).dt.date,'type']).count()['id'].reset_index() \\\n",
    "    .pivot(index='created_date', columns='type', values='id') \\\n",
    "    .plot.bar(subplots=True)"
   ]
  },
  {
   "cell_type": "code",
   "execution_count": 26,
   "id": "699f89f2-b9d8-4180-8cea-d713a5a619ac",
   "metadata": {},
   "outputs": [
    {
     "data": {
      "text/plain": [
       "array([<Axes: title={'center': 'comment'}, xlabel='created_date'>,\n",
       "       <Axes: title={'center': 'comment_reply'}, xlabel='created_date'>,\n",
       "       <Axes: title={'center': 'submission'}, xlabel='created_date'>],\n",
       "      dtype=object)"
      ]
     },
     "execution_count": 26,
     "metadata": {},
     "output_type": "execute_result"
    },
    {
     "data": {
      "image/png": "[encoded data removed]",
      "text/plain": [
       "<Figure size 640x480 with 3 Axes>"
      ]
     },
     "metadata": {},
     "output_type": "display_data"
    }
   ],
   "source": [
    "coms_df \\\n",
    "    .groupby([pd.to_datetime(coms_df.created_date).dt.date,'type']).sum()['score'].reset_index() \\\n",
    "    .pivot(index='created_date', columns='type', values='score') \\\n",
    "    .plot.bar(subplots=True)"
   ]
  },
  {
   "cell_type": "code",
   "execution_count": 27,
   "id": "85cdad55-3551-4254-ae4a-91be7bd3460e",
   "metadata": {},
   "outputs": [
    {
     "data": {
      "text/html": [
       "<div>\n",
       "<style scoped>\n",
       "    .dataframe tbody tr th:only-of-type {\n",
       "        vertical-align: middle;\n",
       "    }\n",
       "\n",
       "    .dataframe tbody tr th {\n",
       "        vertical-align: top;\n",
       "    }\n",
       "\n",
       "    .dataframe thead th {\n",
       "        text-align: right;\n",
       "    }\n",
       "</style>\n",
       "<table border=\"1\" class=\"dataframe\">\n",
       "  <thead>\n",
       "    <tr style=\"text-align: right;\">\n",
       "      <th></th>\n",
       "      <th>subreddit</th>\n",
       "      <th>submission_text</th>\n",
       "      <th>created_utc</th>\n",
       "      <th>controversiality</th>\n",
       "      <th>submission_id</th>\n",
       "      <th>score</th>\n",
       "      <th>likes</th>\n",
       "      <th>distinguished</th>\n",
       "      <th>downs</th>\n",
       "      <th>title</th>\n",
       "      <th>author</th>\n",
       "      <th>upvote_ratio</th>\n",
       "      <th>url_domain</th>\n",
       "      <th>permalink</th>\n",
       "      <th>retrieve_time</th>\n",
       "      <th>created_date</th>\n",
       "      <th>parent_id</th>\n",
       "      <th>type</th>\n",
       "      <th>gilded</th>\n",
       "      <th>url</th>\n",
       "      <th>body</th>\n",
       "      <th>num_reports</th>\n",
       "      <th>total_awards_received</th>\n",
       "      <th>id</th>\n",
       "      <th>score_percent</th>\n",
       "    </tr>\n",
       "  </thead>\n",
       "  <tbody>\n",
       "    <tr>\n",
       "      <th>0</th>\n",
       "      <td>MLS</td>\n",
       "      <td>NaN</td>\n",
       "      <td>1.682946e+09</td>\n",
       "      <td>NaN</td>\n",
       "      <td>134ls7m</td>\n",
       "      <td>1109</td>\n",
       "      <td>NaN</td>\n",
       "      <td>NaN</td>\n",
       "      <td>NaN</td>\n",
       "      <td>[meme] It would end the pain</td>\n",
       "      <td>Fraganade</td>\n",
       "      <td>0.98</td>\n",
       "      <td>i.imgur.com</td>\n",
       "      <td>/r/MLS/comments/134ls7m/meme_it_would_end_the_...</td>\n",
       "      <td>2023-05-06 23:17:30</td>\n",
       "      <td>2023-05-01 12:57:25</td>\n",
       "      <td>NaN</td>\n",
       "      <td>submission</td>\n",
       "      <td>NaN</td>\n",
       "      <td>https://i.imgur.com/duojFS6.jpg</td>\n",
       "      <td>NaN</td>\n",
       "      <td>NaN</td>\n",
       "      <td>NaN</td>\n",
       "      <td>134ls7m</td>\n",
       "      <td>0.010596</td>\n",
       "    </tr>\n",
       "    <tr>\n",
       "      <th>38</th>\n",
       "      <td>MLS</td>\n",
       "      <td>NaN</td>\n",
       "      <td>1.682962e+09</td>\n",
       "      <td>NaN</td>\n",
       "      <td>134u5dj</td>\n",
       "      <td>760</td>\n",
       "      <td>NaN</td>\n",
       "      <td>NaN</td>\n",
       "      <td>NaN</td>\n",
       "      <td>[MEME] The regular season's all that matters.....</td>\n",
       "      <td>MkPapadopoulos</td>\n",
       "      <td>0.98</td>\n",
       "      <td>i.redd.it</td>\n",
       "      <td>/r/MLS/comments/134u5dj/meme_the_regular_seaso...</td>\n",
       "      <td>2023-05-06 23:17:31</td>\n",
       "      <td>2023-05-01 17:22:37</td>\n",
       "      <td>NaN</td>\n",
       "      <td>submission</td>\n",
       "      <td>NaN</td>\n",
       "      <td>https://i.redd.it/1nnrsv0g79xa1.jpg</td>\n",
       "      <td>NaN</td>\n",
       "      <td>NaN</td>\n",
       "      <td>NaN</td>\n",
       "      <td>134u5dj</td>\n",
       "      <td>0.007262</td>\n",
       "    </tr>\n",
       "    <tr>\n",
       "      <th>75</th>\n",
       "      <td>MLS</td>\n",
       "      <td>NaN</td>\n",
       "      <td>1.682968e+09</td>\n",
       "      <td>1.0</td>\n",
       "      <td>134u5dj</td>\n",
       "      <td>2</td>\n",
       "      <td>NaN</td>\n",
       "      <td>NaN</td>\n",
       "      <td>0.0</td>\n",
       "      <td>NaN</td>\n",
       "      <td>Scratchbuttdontsniff</td>\n",
       "      <td>NaN</td>\n",
       "      <td>NaN</td>\n",
       "      <td>/r/MLS/comments/134u5dj/meme_the_regular_seaso...</td>\n",
       "      <td>2023-05-06 23:17:31</td>\n",
       "      <td>2023-05-01 19:01:33</td>\n",
       "      <td>t1_jigsnra</td>\n",
       "      <td>comment_reply</td>\n",
       "      <td>0.0</td>\n",
       "      <td>NaN</td>\n",
       "      <td>Not for me... I am Chiefs fan... But 2019 does...</td>\n",
       "      <td>NaN</td>\n",
       "      <td>0.0</td>\n",
       "      <td>jigsy4k</td>\n",
       "      <td>0.000019</td>\n",
       "    </tr>\n",
       "    <tr>\n",
       "      <th>83</th>\n",
       "      <td>MLS</td>\n",
       "      <td>NaN</td>\n",
       "      <td>1.682830e+09</td>\n",
       "      <td>NaN</td>\n",
       "      <td>133fwvu</td>\n",
       "      <td>755</td>\n",
       "      <td>NaN</td>\n",
       "      <td>NaN</td>\n",
       "      <td>NaN</td>\n",
       "      <td>Portland Thorns [3] - 3 Angel City - Bella Bix...</td>\n",
       "      <td>TheMonkeyPrince</td>\n",
       "      <td>0.96</td>\n",
       "      <td>v.redd.it</td>\n",
       "      <td>/r/MLS/comments/133fwvu/portland_thorns_3_3_an...</td>\n",
       "      <td>2023-05-06 23:17:31</td>\n",
       "      <td>2023-04-30 04:39:40</td>\n",
       "      <td>NaN</td>\n",
       "      <td>submission</td>\n",
       "      <td>NaN</td>\n",
       "      <td>https://v.redd.it/mhsecsiraywa1</td>\n",
       "      <td>NaN</td>\n",
       "      <td>NaN</td>\n",
       "      <td>NaN</td>\n",
       "      <td>133fwvu</td>\n",
       "      <td>0.007214</td>\n",
       "    </tr>\n",
       "    <tr>\n",
       "      <th>107</th>\n",
       "      <td>MLS</td>\n",
       "      <td>NaN</td>\n",
       "      <td>1.682873e+09</td>\n",
       "      <td>1.0</td>\n",
       "      <td>133fwvu</td>\n",
       "      <td>-2</td>\n",
       "      <td>NaN</td>\n",
       "      <td>NaN</td>\n",
       "      <td>0.0</td>\n",
       "      <td>NaN</td>\n",
       "      <td>outdoorman92</td>\n",
       "      <td>NaN</td>\n",
       "      <td>NaN</td>\n",
       "      <td>/r/MLS/comments/133fwvu/portland_thorns_3_3_an...</td>\n",
       "      <td>2023-05-06 23:17:31</td>\n",
       "      <td>2023-04-30 16:35:44</td>\n",
       "      <td>t3_133fwvu</td>\n",
       "      <td>comment</td>\n",
       "      <td>0.0</td>\n",
       "      <td>NaN</td>\n",
       "      <td>Why is the Portland keeper on that end of the ...</td>\n",
       "      <td>NaN</td>\n",
       "      <td>0.0</td>\n",
       "      <td>jibmk2j</td>\n",
       "      <td>-0.000019</td>\n",
       "    </tr>\n",
       "  </tbody>\n",
       "</table>\n",
       "</div>"
      ],
      "text/plain": [
       "    subreddit submission_text   created_utc  controversiality submission_id   \n",
       "0         MLS             NaN  1.682946e+09               NaN       134ls7m  \\\n",
       "38        MLS             NaN  1.682962e+09               NaN       134u5dj   \n",
       "75        MLS             NaN  1.682968e+09               1.0       134u5dj   \n",
       "83        MLS             NaN  1.682830e+09               NaN       133fwvu   \n",
       "107       MLS             NaN  1.682873e+09               1.0       133fwvu   \n",
       "\n",
       "     score  likes  distinguished  downs   \n",
       "0     1109    NaN            NaN    NaN  \\\n",
       "38     760    NaN            NaN    NaN   \n",
       "75       2    NaN            NaN    0.0   \n",
       "83     755    NaN            NaN    NaN   \n",
       "107     -2    NaN            NaN    0.0   \n",
       "\n",
       "                                                 title                author   \n",
       "0                         [meme] It would end the pain             Fraganade  \\\n",
       "38   [MEME] The regular season's all that matters.....        MkPapadopoulos   \n",
       "75                                                 NaN  Scratchbuttdontsniff   \n",
       "83   Portland Thorns [3] - 3 Angel City - Bella Bix...       TheMonkeyPrince   \n",
       "107                                                NaN          outdoorman92   \n",
       "\n",
       "     upvote_ratio   url_domain   \n",
       "0            0.98  i.imgur.com  \\\n",
       "38           0.98    i.redd.it   \n",
       "75            NaN          NaN   \n",
       "83           0.96    v.redd.it   \n",
       "107           NaN          NaN   \n",
       "\n",
       "                                             permalink        retrieve_time   \n",
       "0    /r/MLS/comments/134ls7m/meme_it_would_end_the_...  2023-05-06 23:17:30  \\\n",
       "38   /r/MLS/comments/134u5dj/meme_the_regular_seaso...  2023-05-06 23:17:31   \n",
       "75   /r/MLS/comments/134u5dj/meme_the_regular_seaso...  2023-05-06 23:17:31   \n",
       "83   /r/MLS/comments/133fwvu/portland_thorns_3_3_an...  2023-05-06 23:17:31   \n",
       "107  /r/MLS/comments/133fwvu/portland_thorns_3_3_an...  2023-05-06 23:17:31   \n",
       "\n",
       "            created_date   parent_id           type  gilded   \n",
       "0    2023-05-01 12:57:25         NaN     submission     NaN  \\\n",
       "38   2023-05-01 17:22:37         NaN     submission     NaN   \n",
       "75   2023-05-01 19:01:33  t1_jigsnra  comment_reply     0.0   \n",
       "83   2023-04-30 04:39:40         NaN     submission     NaN   \n",
       "107  2023-04-30 16:35:44  t3_133fwvu        comment     0.0   \n",
       "\n",
       "                                     url   \n",
       "0        https://i.imgur.com/duojFS6.jpg  \\\n",
       "38   https://i.redd.it/1nnrsv0g79xa1.jpg   \n",
       "75                                   NaN   \n",
       "83       https://v.redd.it/mhsecsiraywa1   \n",
       "107                                  NaN   \n",
       "\n",
       "                                                  body  num_reports   \n",
       "0                                                  NaN          NaN  \\\n",
       "38                                                 NaN          NaN   \n",
       "75   Not for me... I am Chiefs fan... But 2019 does...          NaN   \n",
       "83                                                 NaN          NaN   \n",
       "107  Why is the Portland keeper on that end of the ...          NaN   \n",
       "\n",
       "     total_awards_received       id  score_percent  \n",
       "0                      NaN  134ls7m       0.010596  \n",
       "38                     NaN  134u5dj       0.007262  \n",
       "75                     0.0  jigsy4k       0.000019  \n",
       "83                     NaN  133fwvu       0.007214  \n",
       "107                    0.0  jibmk2j      -0.000019  "
      ]
     },
     "execution_count": 27,
     "metadata": {},
     "output_type": "execute_result"
    }
   ],
   "source": [
    "coms_df[coms_df.controversiality !=0].head()"
   ]
  },
  {
   "cell_type": "code",
   "execution_count": 28,
   "id": "7266c6b0-d9fc-47aa-887c-7b294cf0d7c9",
   "metadata": {},
   "outputs": [
    {
     "data": {
      "text/plain": [
       "retrieve_time\n",
       "2023-05-06 23:17:30     38\n",
       "2023-05-06 23:17:31    201\n",
       "2023-05-06 23:17:32    143\n",
       "2023-05-06 23:17:33    142\n",
       "2023-05-06 23:17:34    522\n",
       "Name: id, dtype: int64"
      ]
     },
     "execution_count": 28,
     "metadata": {},
     "output_type": "execute_result"
    }
   ],
   "source": [
    "coms_df.groupby('retrieve_time').count().head()['id']\n"
   ]
  }
 ],
 "metadata": {
  "kernelspec": {
   "display_name": "Python 3 (ipykernel)",
   "language": "python",
   "name": "python3"
  },
  "language_info": {
   "codemirror_mode": {
    "name": "ipython",
    "version": 3
   },
   "file_extension": ".py",
   "mimetype": "text/x-python",
   "name": "python",
   "nbconvert_exporter": "python",
   "pygments_lexer": "ipython3",
   "version": "3.9.16"
  }
 },
 "nbformat": 4,
 "nbformat_minor": 5
}
